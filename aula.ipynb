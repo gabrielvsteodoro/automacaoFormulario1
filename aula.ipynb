{
 "cells": [
  {
   "cell_type": "code",
   "execution_count": 7,
   "metadata": {},
   "outputs": [],
   "source": [
    "from selenium.webdriver.common.by import By\n",
    "from selenium.webdriver.support.ui import Select\n",
    "\n",
    "from selenium import webdriver\n",
    "\n",
    "driver = webdriver.Chrome()"
   ]
  },
  {
   "cell_type": "code",
   "execution_count": 8,
   "metadata": {},
   "outputs": [],
   "source": [
    "driver.get('http://localhost:8000/#/desafio/1')"
   ]
  },
  {
   "cell_type": "code",
   "execution_count": 8,
   "metadata": {},
   "outputs": [],
   "source": [
    "import json\n",
    "\n",
    "#Puxar arquivo JSON para uma pasta no PYTHON\n",
    "with open('./desafio_1.json') as file:\n",
    "    data = json.load(file)"
   ]
  },
  {
   "cell_type": "code",
   "execution_count": 9,
   "metadata": {},
   "outputs": [],
   "source": [
    "#Aqui foi usado para localizar no site onde está cada campo\n",
    "email = driver.find_element(By.NAME, 'email')\n",
    "senha = driver.find_element(By.NAME, 'senha')\n"
   ]
  },
  {
   "cell_type": "code",
   "execution_count": null,
   "metadata": {},
   "outputs": [
    {
     "data": {
      "text/plain": [
       "'*V03BSlEA*'"
      ]
     },
     "execution_count": 9,
     "metadata": {},
     "output_type": "execute_result"
    }
   ],
   "source": [
    "#Ele puxa os dados do json\n",
    "data[0]['email']\n",
    "data[0]['senha']"
   ]
  },
  {
   "cell_type": "code",
   "execution_count": null,
   "metadata": {},
   "outputs": [],
   "source": [
    "#Aqui envia os dados para o site\n",
    "email.send_keys(data[0]['email'])\n",
    "senha.send_keys(data[0]['senha'])"
   ]
  },
  {
   "cell_type": "code",
   "execution_count": 12,
   "metadata": {},
   "outputs": [
    {
     "data": {
      "text/plain": [
       "'1983-08-27'"
      ]
     },
     "execution_count": 12,
     "metadata": {},
     "output_type": "execute_result"
    }
   ],
   "source": [
    "data[0]['data-de-nascimento']"
   ]
  },
  {
   "cell_type": "code",
   "execution_count": 10,
   "metadata": {},
   "outputs": [],
   "source": [
    "#Importa a funcionalidade de data, hora e minuto\n",
    "import datetime"
   ]
  },
  {
   "cell_type": "code",
   "execution_count": 11,
   "metadata": {},
   "outputs": [],
   "source": [
    "#definindo a variação usando o datetime, e puxando os dados\n",
    "dt = datetime.datetime.strptime(data[0]['data-de-nascimento'], '%Y-%m-%d')"
   ]
  },
  {
   "cell_type": "code",
   "execution_count": 12,
   "metadata": {},
   "outputs": [
    {
     "data": {
      "text/plain": [
       "(1983, 8, 27)"
      ]
     },
     "execution_count": 12,
     "metadata": {},
     "output_type": "execute_result"
    }
   ],
   "source": [
    "dt.year, dt.month, dt.day"
   ]
  },
  {
   "cell_type": "code",
   "execution_count": null,
   "metadata": {},
   "outputs": [],
   "source": [
    "dia = Select(driver.find_element(By.NAME, 'radix-:r2:'))\n",
    "mes = Select(driver.find_element(By.NAME, 'radix-:r3:'))\n",
    "ano = Select(driver.find_element(By.NAME, 'radix-:r4:'))"
   ]
  },
  {
   "cell_type": "code",
   "execution_count": 31,
   "metadata": {},
   "outputs": [],
   "source": [
    "ano.select_by_visible_text(str(dt.year))\n",
    "mes.select_by_visible_text(str(dt.month))\n",
    "dia.select_by_visible_text(str(dt.day))"
   ]
  },
  {
   "cell_type": "code",
   "execution_count": 83,
   "metadata": {},
   "outputs": [],
   "source": [
    "newsletter = driver.find_element(By.ID, 'airplane-mode')"
   ]
  },
  {
   "cell_type": "code",
   "execution_count": 121,
   "metadata": {},
   "outputs": [
    {
     "data": {
      "text/plain": [
       "True"
      ]
     },
     "execution_count": 121,
     "metadata": {},
     "output_type": "execute_result"
    }
   ],
   "source": [
    "if newsletter.get_attribute('aria-checked') == 'true':\n",
    "    switch_on = True\n",
    "else:\n",
    "    switch_on = False\n",
    "\n",
    "switch_on"
   ]
  },
  {
   "cell_type": "code",
   "execution_count": 122,
   "metadata": {},
   "outputs": [],
   "source": [
    "if switch_on != data[0]['newsletter']:\n",
    "    newsletter.click()"
   ]
  },
  {
   "cell_type": "code",
   "execution_count": 123,
   "metadata": {},
   "outputs": [],
   "source": [
    "enviar = driver.find_element(By.CLASS_NAME, 'btn-primary')\n",
    "\n",
    "enviar.click()"
   ]
  },
  {
   "cell_type": "markdown",
   "metadata": {},
   "source": [
    "AUTOMATIZANDO"
   ]
  },
  {
   "cell_type": "code",
   "execution_count": 13,
   "metadata": {},
   "outputs": [],
   "source": [
    "import json\n",
    "\n",
    "with open('./desafio_1.json') as file:\n",
    "    data = json.load(file)"
   ]
  },
  {
   "cell_type": "code",
   "execution_count": null,
   "metadata": {},
   "outputs": [],
   "source": [
    "import time\n",
    "\n",
    "for item in data:  # Percorre cada item (usuário) dentro da lista 'data'\n",
    "\n",
    "    email = driver.find_element(By.NAME, 'email')  # Encontra o campo de email na página\n",
    "    senha = driver.find_element(By.NAME, 'senha')  # Encontra o campo de senha na página\n",
    "\n",
    "    email.clear()  # Limpa o campo de email antes de preencher\n",
    "    senha.clear()  # Limpa o campo de senha antes de preencher\n",
    "\n",
    "    email.send_keys(item['email'])  # Digita o email do usuário atual no campo\n",
    "    senha.send_keys(item['senha'])  # Digita a senha do usuário atual no campo\n",
    "\n",
    "    dt = datetime.datetime.strptime(item['data-de-nascimento'], '%Y-%m-%d')  # Converte a string da data de nascimento para um objeto de data\n",
    "\n",
    "    dia = Select(driver.find_element(By.NAME, 'dia'))  # Encontra o campo de seleção do dia\n",
    "    mes = Select(driver.find_element(By.NAME, 'mes'))  # Encontra o campo de seleção do mês\n",
    "    ano = Select(driver.find_element(By.NAME, 'ano'))  # Encontra o campo de seleção do ano\n",
    "\n",
    "    dia.select_by_visible_text(str(dt.day))  # Seleciona o dia correto no campo de seleção\n",
    "    mes.select_by_visible_text(str(dt.month))  # Seleciona o mês correto no campo de seleção\n",
    "    ano.select_by_visible_text(str(dt.year))  # Seleciona o ano correto no campo de seleção\n",
    "\n",
    "    newsletter = driver.find_element(By.ID, 'airplane-mode')  # Encontra o botão de newsletter na página\n",
    "\n",
    "    if newsletter.get_attribute('aria-checked') == 'true':  # Verifica se o botão está ativado\n",
    "        switch_on = True  # Define 'switch_on' como True se estiver ativado\n",
    "    else:\n",
    "        switch_on = False  # Define 'switch_on' como False se estiver desativado\n",
    "\n",
    "    if switch_on != item['newsletter']:  # Se o estado do botão estiver diferente do esperado\n",
    "        newsletter.click()  # Clica no botão para ativar ou desativar, corrigindo o estado\n",
    "\n",
    "    email.submit()  # Envia o formulário preenchido\n",
    "    \n",
    "\n",
    "    time.sleep(1) "
   ]
  },
  {
   "cell_type": "code",
   "execution_count": null,
   "metadata": {},
   "outputs": [],
   "source": []
  },
  {
   "cell_type": "code",
   "execution_count": null,
   "metadata": {},
   "outputs": [],
   "source": []
  }
 ],
 "metadata": {
  "kernelspec": {
   "display_name": "venv",
   "language": "python",
   "name": "python3"
  },
  "language_info": {
   "codemirror_mode": {
    "name": "ipython",
    "version": 3
   },
   "file_extension": ".py",
   "mimetype": "text/x-python",
   "name": "python",
   "nbconvert_exporter": "python",
   "pygments_lexer": "ipython3",
   "version": "3.12.7"
  }
 },
 "nbformat": 4,
 "nbformat_minor": 2
}
